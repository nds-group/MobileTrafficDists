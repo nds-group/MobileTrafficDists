{
 "cells": [
  {
   "cell_type": "markdown",
   "metadata": {},
   "source": [
    "# Example to generate mobile traffic samples\n",
    "\n",
    "This is the workflow we utilized on Section 6 of the paper. "
   ]
  },
  {
   "cell_type": "code",
   "execution_count": 1,
   "metadata": {},
   "outputs": [],
   "source": [
    "import pandas as pd\n",
    "import numpy as np\n",
    "from scipy import stats\n",
    "import pomegranate\n",
    "\n",
    "np.random.seed(0)"
   ]
  },
  {
   "cell_type": "markdown",
   "metadata": {},
   "source": [
    "## Functions"
   ]
  },
  {
   "cell_type": "code",
   "execution_count": 2,
   "metadata": {},
   "outputs": [],
   "source": [
    "\"\"\"\n",
    "Inverse function of the powerlaw that connects \n",
    "session duration and traffic volume\n",
    "\"\"\"\n",
    "\n",
    "def func_invpowerlaw(x,a,b):\n",
    "    return ((x)/a)**(1/b)      "
   ]
  },
  {
   "cell_type": "markdown",
   "metadata": {},
   "source": [
    "## Load data"
   ]
  },
  {
   "cell_type": "code",
   "execution_count": 3,
   "metadata": {},
   "outputs": [],
   "source": [
    "##Shares of sessions and traffic across apps \n",
    "df_sessions_day = pd.read_csv('data/sessions_share.csv')\n",
    "\n",
    "##Coeffcients for arrival rates for different types of antennas\n",
    "df_arrival_coefs = pd.read_csv('data/arrival_coefs.csv')\n",
    "\n",
    "##Coefficients for the mixture models that represent session-level traffic\n",
    "df_pdf_coefs = pd.read_csv('data/pdf_coefs.csv')\n",
    "\n",
    "##Coefficients for the powerlaw that related session duration to session traffic\n",
    "df_powerlaw_coefs = pd.read_csv('data/duration_coefs.csv')"
   ]
  },
  {
   "cell_type": "markdown",
   "metadata": {},
   "source": [
    "## Generating sessions for a set of antennas"
   ]
  },
  {
   "cell_type": "code",
   "execution_count": 51,
   "metadata": {},
   "outputs": [],
   "source": [
    "\"\"\"\n",
    "Configuring the simulation\n",
    "On this example, we have 10 different antennas with different expected loads,\n",
    "going across 10 days, on a per minute basis. \n",
    "We choose only peak hours to generate the samples.\n",
    "\"\"\"\n",
    "n_antennas = 2\n",
    "antennas = np.arange(0,n_antennas,1)\n",
    "decile_list = [1,0.8,0.7,0.6,0.7,0.6,0.5,0.9,0.5,0.6]\n",
    "n_days = 10\n",
    "days = np.arange(1,n_days+1,1)\n",
    "hours = np.arange(8,22,1)\n",
    "minutes = np.arange(0,60,1)"
   ]
  },
  {
   "cell_type": "code",
   "execution_count": 52,
   "metadata": {},
   "outputs": [],
   "source": [
    "\"\"\"\n",
    "A df that will hold all the respective minutes \n",
    "\"\"\"\n",
    "df_dayhourminute = pd.DataFrame(columns=['day','hour','minute','moment'])\n",
    "for day in days:\n",
    "    for hour in hours:\n",
    "        for minute in minutes:\n",
    "            d = {'day':[day],\n",
    "                'hour':[hour],\n",
    "                'minute':[minute],\n",
    "                'moment':['peak'],}\n",
    "            df_dayhourminute = pd.concat([df_dayhourminute,pd.DataFrame(d)])\n",
    "\n",
    "df_dayhourminute = df_dayhourminute.reset_index(drop=True)\n",
    "\n",
    "total_minutes = len(days)*len(hours)*len(minutes) #number of minutes for one antenna during the period\n",
    "peak_minutes = int(total_minutes)"
   ]
  },
  {
   "cell_type": "code",
   "execution_count": 53,
   "metadata": {},
   "outputs": [
    {
     "name": "stdout",
     "output_type": "stream",
     "text": [
      "0 Amazon 6342\n",
      "0 Apple iCloud 8947\n",
      "0 Clash of Clans 1179\n",
      "0 Deezer 7422\n",
      "0 Facebook 219167\n",
      "0 Facebook Live 8112\n",
      "0 Facebook Messenger 1467\n",
      "0 Generic Clothes 5258\n",
      "0 Gmail 2997\n",
      "0 Google Docs 407\n",
      "0 Google Maps 15958\n",
      "0 Google Meet 1434\n",
      "0 Instagram (main) 79834\n",
      "0 Instagram (videos) 39559\n",
      "0 LinkedIn 2768\n",
      "0 Microsoft Mail 621\n",
      "0 Netflix 17994\n",
      "0 Pokemon GO 266\n",
      "0 SnapChat 106262\n",
      "0 Spotify 6681\n",
      "0 Telegram 2682\n",
      "0 Twitch 5276\n",
      "0 Twitter (main) 6413\n",
      "0 Twitter (videos) 1905\n",
      "0 Uber 457\n",
      "0 Waze 9274\n",
      "0 WhatsApp 6137\n",
      "0 Wikipedia 385\n",
      "0 Yahoo 2014\n",
      "0 Youtube 29555\n",
      "1 Amazon 2287\n",
      "1 Apple iCloud 3226\n",
      "1 Clash of Clans 426\n",
      "1 Deezer 2676\n",
      "1 Facebook 79001\n",
      "1 Facebook Live 2925\n",
      "1 Facebook Messenger 530\n",
      "1 Generic Clothes 1896\n",
      "1 Gmail 1081\n",
      "1 Google Docs 147\n",
      "1 Google Maps 5753\n",
      "1 Google Meet 518\n",
      "1 Instagram (main) 28777\n",
      "1 Instagram (videos) 14260\n",
      "1 LinkedIn 998\n",
      "1 Microsoft Mail 225\n",
      "1 Netflix 6487\n",
      "1 Pokemon GO 97\n",
      "1 SnapChat 38303\n",
      "1 Spotify 2409\n",
      "1 Telegram 967\n",
      "1 Twitch 1902\n",
      "1 Twitter (main) 2312\n",
      "1 Twitter (videos) 687\n",
      "1 Uber 165\n",
      "1 Waze 3344\n",
      "1 WhatsApp 2213\n",
      "1 Wikipedia 140\n",
      "1 Yahoo 727\n",
      "1 Youtube 10654\n"
     ]
    }
   ],
   "source": [
    "df_traffic_duration = pd.DataFrame(columns=['antenna', 'service', 'traffic', 'duration', 'day', 'hour', 'minute'])\n",
    "\n",
    "for antenna in antennas:\n",
    "    ##Now we will generate how many samples are seen at each minute for that antenna\n",
    "    decile = decile_list[antenna]\n",
    "    df_antenna_arrival = df_arrival_coefs.loc[(df_arrival_coefs.peak=='peak') & (df_arrival_coefs.decile==decile)].reset_index(drop=True)\n",
    "    mu = df_antenna_arrival.loc[0,'loc']\n",
    "    sigma = df_antenna_arrival.loc[0,'scale']\n",
    "    peak_arrivals_perminute = stats.norm(mu,sigma).rvs(peak_minutes,random_state=42)\n",
    "\n",
    "    for i in range(len(peak_arrivals_perminute)):\n",
    "        peak_arrivals_perminute[i] = np.round(peak_arrivals_perminute[i])\n",
    "\n",
    "    df_traffic_duration_temp = pd.DataFrame(columns=['antenna','service','traffic','duration'])\n",
    "    for app in df_pdf_coefs.app.unique():\n",
    "        ##Filtering the app and getting the share of sessions\n",
    "        share = df_sessions_day.loc[df_sessions_day.app==app,'sessions%'].iloc[0]\n",
    "        desired_samples_app = int(np.round(peak_arrivals_perminute.sum()*share/100))+1\n",
    "        print(antenna,app,desired_samples_app)    \n",
    "\n",
    "        ##PDF coefs \n",
    "        pdf_coefs = df_pdf_coefs.loc[df_pdf_coefs.app==app].reset_index(drop=True)\n",
    "        if pdf_coefs.loc[0,'u_0']=='-':\n",
    "            pdf_coefs['u_g'] = pdf_coefs['u_g'].astype(float)\n",
    "            pdf_coefs['s_g'] = pdf_coefs['s_g'].astype(float)     \n",
    "            model = pomegranate.NormalDistribution(pdf_coefs.loc[0,'u_g'],pdf_coefs.loc[0,'s_g'])\n",
    "        elif pdf_coefs.loc[0,'u_1']=='-':\n",
    "            pdf_coefs['u_g'] = pdf_coefs['u_g'].astype(float)\n",
    "            pdf_coefs['s_g'] = pdf_coefs['s_g'].astype(float)    \n",
    "            pdf_coefs['u_0'] = pdf_coefs['u_0'].astype(float)\n",
    "            pdf_coefs['s_0'] = pdf_coefs['s_0'].astype(float)\n",
    "            pdf_coefs['w_0'] = pdf_coefs['w_0'].astype(float)\n",
    "            d_g = pomegranate.NormalDistribution(pdf_coefs.loc[0,'u_g'],pdf_coefs.loc[0,'s_g'])\n",
    "            d0 = pomegranate.NormalDistribution(pdf_coefs.loc[0,'u_0'],pdf_coefs.loc[0,'s_0'])\n",
    "            model = pomegranate.GeneralMixtureModel([d_g, d0], weights=[1,pdf_coefs.loc[0,'w_0']])\n",
    "        elif pdf_coefs.loc[0,'u_2']=='-':\n",
    "            pdf_coefs['u_g'] = pdf_coefs['u_g'].astype(float)\n",
    "            pdf_coefs['s_g'] = pdf_coefs['s_g'].astype(float)     \n",
    "            pdf_coefs['u_0'] = pdf_coefs['u_0'].astype(float)\n",
    "            pdf_coefs['s_0'] = pdf_coefs['s_0'].astype(float)\n",
    "            pdf_coefs['w_0'] = pdf_coefs['w_0'].astype(float)\n",
    "            pdf_coefs['u_1'] = pdf_coefs['u_1'].astype(float)\n",
    "            pdf_coefs['s_1'] = pdf_coefs['s_1'].astype(float)\n",
    "            pdf_coefs['w_1'] = pdf_coefs['w_1'].astype(float)\n",
    "            d_g = pomegranate.NormalDistribution(pdf_coefs.loc[0,'u_g'],pdf_coefs.loc[0,'s_g'])\n",
    "            d0 = pomegranate.NormalDistribution(pdf_coefs.loc[0,'u_0'],pdf_coefs.loc[0,'s_0'])\n",
    "            d1 = pomegranate.NormalDistribution(pdf_coefs.loc[0,'u_1'],pdf_coefs.loc[0,'s_1'])\n",
    "            model = pomegranate.GeneralMixtureModel([d_g, d0, d1], weights=[1,pdf_coefs.loc[0,'w_0'],pdf_coefs.loc[0,'w_1']])\n",
    "        else: \n",
    "            pdf_coefs['u_g'] = pdf_coefs['u_g'].astype(float)\n",
    "            pdf_coefs['s_g'] = pdf_coefs['s_g'].astype(float)     \n",
    "            pdf_coefs['u_0'] = pdf_coefs['u_0'].astype(float)\n",
    "            pdf_coefs['s_0'] = pdf_coefs['s_0'].astype(float)\n",
    "            pdf_coefs['w_0'] = pdf_coefs['w_0'].astype(float)\n",
    "            pdf_coefs['u_1'] = pdf_coefs['u_1'].astype(float)\n",
    "            pdf_coefs['s_1'] = pdf_coefs['s_1'].astype(float)\n",
    "            pdf_coefs['w_1'] = pdf_coefs['w_1'].astype(float)    \n",
    "            pdf_coefs['u_2'] = pdf_coefs['u_2'].astype(float)\n",
    "            pdf_coefs['s_2'] = pdf_coefs['s_2'].astype(float)\n",
    "            pdf_coefs['w_2'] = pdf_coefs['w_2'].astype(float)        \n",
    "            d_g = pomegranate.NormalDistribution(pdf_coefs.loc[0,'u_g'],pdf_coefs.loc[0,'s_g'])\n",
    "            d0 = pomegranate.NormalDistribution(pdf_coefs.loc[0,'u_0'],pdf_coefs.loc[0,'s_0'])\n",
    "            d1 = pomegranate.NormalDistribution(pdf_coefs.loc[0,'u_1'],pdf_coefs.loc[0,'s_1'])\n",
    "            d2 = pomegranate.NormalDistribution(pdf_coefs.loc[0,'u_2'],pdf_coefs.loc[0,'s_2'])\n",
    "            model = pomegranate.GeneralMixtureModel([d_g, d0, d1, d2], weights=[1,pdf_coefs.loc[0,'w_0'],pdf_coefs.loc[0,'w_1'],pdf_coefs.loc[0,'w_2']])    \n",
    "                \n",
    "        #most critical part, generating samples based on the share\n",
    "        pdf_samples = model.sample(desired_samples_app)\n",
    "        pdf_samples = 10**pdf_samples\n",
    "        \n",
    "        \"\"\"Duration\"\"\"\n",
    "        coefs = df_powerlaw_coefs.loc[df_powerlaw_coefs.app==app].reset_index(drop=True)\n",
    "        durations = np.nan_to_num(x=func_invpowerlaw(pdf_samples,coefs.loc[0,'a'],coefs.loc[0,'b']),nan=5)\n",
    "        \n",
    "        temp = pd.DataFrame({'antenna':antenna,'service':app,'traffic':pdf_samples,'duration':durations})\n",
    "        df_traffic_duration_temp = pd.concat([df_traffic_duration_temp,temp])\n",
    "        \n",
    "    df_traffic_duration_temp = df_traffic_duration_temp.sample(frac=1)\n",
    "    df_traffic_duration_temp = df_traffic_duration_temp.reset_index(drop=True)\n",
    "\n",
    "    ##Samples were assigned randomly before, so now we need to put them on minutes \n",
    "    df_traffic_duration_temp['day'] = 'tbd'\n",
    "    df_traffic_duration_temp['hour'] = 'tbd'\n",
    "    df_traffic_duration_temp['minute'] = 'tbd'\n",
    "\n",
    "    cumsum_arrivals = np.cumsum(peak_arrivals_perminute)\n",
    "\n",
    "    for i in range(len(cumsum_arrivals)):\n",
    "        day = df_dayhourminute.loc[i,'day']\n",
    "        hour = df_dayhourminute.loc[i,'hour']\n",
    "        minute = df_dayhourminute.loc[i,'minute']\n",
    "        if i == 0:\n",
    "            df_traffic_duration_temp.loc[0:cumsum_arrivals[0]-1,'day'] = day\n",
    "            df_traffic_duration_temp.loc[0:cumsum_arrivals[0]-1,'hour'] = hour\n",
    "            df_traffic_duration_temp.loc[0:cumsum_arrivals[0]-1,'minute'] = minute\n",
    "        else:\n",
    "            df_traffic_duration_temp.loc[cumsum_arrivals[i-1]:cumsum_arrivals[i]-1,'day'] = day\n",
    "            df_traffic_duration_temp.loc[cumsum_arrivals[i-1]:cumsum_arrivals[i]-1,'hour'] = hour\n",
    "            df_traffic_duration_temp.loc[cumsum_arrivals[i-1]:cumsum_arrivals[i]-1,'minute'] = minute\n",
    "\n",
    "    df_traffic_duration_temp = df_traffic_duration_temp.loc[df_traffic_duration_temp.day!='tbd']      \n",
    "\n",
    "    df_traffic_duration = pd.concat([df_traffic_duration,df_traffic_duration_temp])"
   ]
  },
  {
   "cell_type": "markdown",
   "metadata": {},
   "source": [
    "## Visualizing a few of the generated samples for each app \n",
    "\n",
    "One important thing to note is that the generated random traffic samples $x$ are the exponent of $10^{x}$, i.e. an $x=6$ means the traffic consumed by this random session is $10^{6}$ bytes, which meand the Normal distributions declared here are actually log-normal distributions"
   ]
  },
  {
   "cell_type": "code",
   "execution_count": 57,
   "metadata": {},
   "outputs": [
    {
     "data": {
      "image/png": "[encoded data removed]",
      "text/plain": [
       "<Figure size 800x400 with 1 Axes>"
      ]
     },
     "metadata": {
      "needs_background": "light"
     },
     "output_type": "display_data"
    }
   ],
   "source": [
    "plt.figure(figsize=(8,4),dpi=100)\n",
    "\n",
    "plt.hist(np.log10(df_traffic_duration.loc[df_traffic_duration.service=='Deezer','traffic']).to_numpy(),bins=100,density=True)\n",
    "\n",
    "plt.ylabel('Probability Density')\n",
    "plt.xlabel('Traffic (log)')\n",
    "\n",
    "plt.show()"
   ]
  },
  {
   "cell_type": "code",
   "execution_count": 58,
   "metadata": {},
   "outputs": [
    {
     "data": {
      "image/png": "[encoded data removed]",
      "text/plain": [
       "<Figure size 800x400 with 1 Axes>"
      ]
     },
     "metadata": {
      "needs_background": "light"
     },
     "output_type": "display_data"
    }
   ],
   "source": [
    "plt.figure(figsize=(8,4),dpi=100)\n",
    "\n",
    "plt.hist(np.log10(df_traffic_duration.loc[df_traffic_duration.service=='Netflix','traffic']).to_numpy(),bins=100,density=True)\n",
    "\n",
    "plt.ylabel('Probability Density')\n",
    "plt.xlabel('Traffic (log)')\n",
    "\n",
    "plt.show()"
   ]
  },
  {
   "cell_type": "code",
   "execution_count": 59,
   "metadata": {},
   "outputs": [
    {
     "data": {
      "image/png": "[encoded data removed]",
      "text/plain": [
       "<Figure size 800x400 with 1 Axes>"
      ]
     },
     "metadata": {
      "needs_background": "light"
     },
     "output_type": "display_data"
    }
   ],
   "source": [
    "plt.figure(figsize=(8,4),dpi=100)\n",
    "\n",
    "plt.hist(np.log10(df_traffic_duration.loc[df_traffic_duration.service=='Youtube','traffic']).to_numpy(),bins=100,density=True)\n",
    "\n",
    "plt.ylabel('Probability Density')\n",
    "plt.xlabel('Traffic (log)')\n",
    "\n",
    "plt.show()"
   ]
  }
 ],
 "metadata": {
  "kernelspec": {
   "display_name": "general",
   "language": "python",
   "name": "python3"
  },
  "language_info": {
   "codemirror_mode": {
    "name": "ipython",
    "version": 3
   },
   "file_extension": ".py",
   "mimetype": "text/x-python",
   "name": "python",
   "nbconvert_exporter": "python",
   "pygments_lexer": "ipython3",
   "version": "3.8.8"
  },
  "orig_nbformat": 4
 },
 "nbformat": 4,
 "nbformat_minor": 2
}
